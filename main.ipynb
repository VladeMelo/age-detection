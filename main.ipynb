{
 "cells": [
  {
   "cell_type": "code",
   "execution_count": 1,
   "metadata": {},
   "outputs": [],
   "source": [
    "import tensorflow as tf\n",
    "import cv2\n",
    "from ultralytics import YOLO\n",
    "from utils import handle_face_blur\n",
    "import cvzone"
   ]
  },
  {
   "cell_type": "code",
   "execution_count": 2,
   "metadata": {},
   "outputs": [],
   "source": [
    "converter = tf.lite.TFLiteConverter.from_saved_model('age_model_export')\n",
    "tflite_model = converter.convert()\n",
    "\n",
    "with open('age_model_export.tflite', 'wb') as f:\n",
    "  f.write(tflite_model)"
   ]
  },
  {
   "cell_type": "code",
   "execution_count": 2,
   "metadata": {},
   "outputs": [],
   "source": [
    "# Load TFLite Model\n",
    "\n",
    "interpreter = tf.lite.Interpreter(model_path='age_model_export.tflite')\n",
    "interpreter.allocate_tensors()\n",
    "input_details = interpreter.get_input_details()\n",
    "output_details = interpreter.get_output_details()"
   ]
  },
  {
   "cell_type": "code",
   "execution_count": 3,
   "metadata": {},
   "outputs": [],
   "source": [
    "def check_is_child(image, top_left_corner, bottom_right_corner):\n",
    "  image = image[top_left_corner[1]:bottom_right_corner[1], top_left_corner[0]:bottom_right_corner[0]]\n",
    "\n",
    "  IMAGE_SIZE = (100, 100)\n",
    "\n",
    "  image = tf.image.resize(image, IMAGE_SIZE)\n",
    "  image = tf.image.rgb_to_grayscale(image)\n",
    "  image = tf.cast(image, tf.float32) / 255.0\n",
    "\n",
    "  # Adicionar a dimensão de batch (de [100, 100, 1] para [1, 100, 100, 1])\n",
    "  image = tf.expand_dims(image, axis=0)  # [1, 100, 100, 1]\n",
    "\n",
    "  interpreter.set_tensor(input_details[0]['index'], image)\n",
    "\n",
    "  interpreter.invoke()\n",
    "\n",
    "  prediction = interpreter.get_tensor(output_details[0]['index'])\n",
    "\n",
    "  return prediction.argmax()"
   ]
  },
  {
   "cell_type": "code",
   "execution_count": 4,
   "metadata": {},
   "outputs": [],
   "source": [
    "def resize_by_width(image, new_width):\n",
    "    # Obter as dimensões da imagem original\n",
    "    original_height, original_width = image.shape[:2]\n",
    "\n",
    "    # Calcular a nova altura mantendo a proporção\n",
    "    scale_ratio = new_width / original_width\n",
    "    new_height = int(original_height * scale_ratio)\n",
    "\n",
    "    return new_height"
   ]
  },
  {
   "cell_type": "code",
   "execution_count": 10,
   "metadata": {},
   "outputs": [],
   "source": [
    "group_age = {\n",
    "  0: '0-12',\n",
    "  1: '13-18',\n",
    "  2: '19-35',\n",
    "  3: '36-59',\n",
    "  4: '60+'\n",
    "}"
   ]
  },
  {
   "cell_type": "code",
   "execution_count": 31,
   "metadata": {},
   "outputs": [
    {
     "name": "stdout",
     "output_type": "stream",
     "text": [
      "\n",
      "0: 448x640 4 faces, 31.9ms\n",
      "Speed: 6.0ms preprocess, 31.9ms inference, 2.0ms postprocess per image at shape (1, 3, 448, 640)\n"
     ]
    }
   ],
   "source": [
    "model = YOLO('yolov8n-face.pt')\n",
    "\n",
    "image_path = 'family.jpg'\n",
    "\n",
    "image = cv2.imread(image_path)\n",
    "\n",
    "cv2.namedWindow('Image', cv2.WINDOW_NORMAL)\n",
    "cv2.resizeWindow('Image', 1200, resize_by_width(image, 1200))\n",
    "cv2.imshow('Image', image)\n",
    "cv2.waitKey(0)\n",
    "\n",
    "face_results = model(image, conf=0.3, stream=True)\n",
    "\n",
    "for face_result in face_results:\n",
    "    for box in face_result.boxes:\n",
    "        x1, y1, x2, y2 = box.xyxy[0]\n",
    "        x1, y1, x2, y2 = int(x1), int(y1), int(x2), int(y2)\n",
    "\n",
    "        top_left_corner = (x1, y1)\n",
    "        bottom_right_corner = (x2, y2)\n",
    "\n",
    "        group =     (image, top_left_corner, bottom_right_corner)\n",
    "\n",
    "        cvzone.putTextRect(image, f'Age: {group_age[group]}', (x1 - 60, y1 - 20), 5, 8)\n",
    "        cv2.rectangle(image, top_left_corner, bottom_right_corner, (0, 255, 0), 3)\n",
    "        \n",
    "        if group == 0:\n",
    "            image = handle_face_blur(image, top_left_corner, bottom_right_corner)\n",
    "            \n",
    "\n",
    "cv2.imshow('Image', image)\n",
    "\n",
    "output_path = 'family_processed.jpg'\n",
    "cv2.imwrite(output_path, image)\n",
    "\n",
    "cv2.waitKey(0)\n",
    "cv2.destroyAllWindows()\n"
   ]
  }
 ],
 "metadata": {
  "kernelspec": {
   "display_name": "Python 3",
   "language": "python",
   "name": "python3"
  },
  "language_info": {
   "codemirror_mode": {
    "name": "ipython",
    "version": 3
   },
   "file_extension": ".py",
   "mimetype": "text/x-python",
   "name": "python",
   "nbconvert_exporter": "python",
   "pygments_lexer": "ipython3",
   "version": "3.9.6"
  }
 },
 "nbformat": 4,
 "nbformat_minor": 2
}
